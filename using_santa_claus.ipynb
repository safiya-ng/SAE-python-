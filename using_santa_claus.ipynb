{
 "cells": [
  {
   "cell_type": "code",
   "execution_count": 43,
   "metadata": {
    "collapsed": false
   },
   "outputs": [
   ],
   "source": [
    "from time import time\n"
   ]
  },
  {
   "cell_type": "code",
   "execution_count": 11,
   "metadata": {
    "collapsed": false
   },
   "outputs": [
   ],
   "source": [
    "from santa_claus import *"
   ]
  },
  {
   "cell_type": "code",
   "execution_count": 24,
   "metadata": {
    "collapsed": false
   },
   "outputs": [
   ],
   "source": [
    "villes = [\n",
    "    \"Paris\", 2.33, 48.86, \"Lyon\", 4.85, 45.75, \"Marseille\", 5.40, 43.30,\n",
    "    \"Lille\", 3.06, 50.63\n",
    "]\n",
    "\n",
    "dico_dist = dictionary_cities(villes)  # = d_cities\n",
    "tour = [\"Paris\", \"Lyon\", \"Marseille\", \"Lille\"]"
   ]
  },
  {
   "cell_type": "markdown",
   "metadata": {
    "collapsed": false
   },
   "source": [
    "**Question 4 :** \n",
    "\n",
    "Comparer théoriquement et expériementalement les complexités des fonctions long\\_tour et tour\\_length\n",
    "\n"
   ]
  },
  {
   "cell_type": "code",
   "execution_count": 0,
   "metadata": {
    "collapsed": false
   },
   "outputs": [
   ],
   "source": [
    "#Théorique\n",
    "tour_length : O(n-2)\n",
    "long_tour : O(n²)"
   ]
  },
  {
   "cell_type": "code",
   "execution_count": 9,
   "metadata": {
    "collapsed": false
   },
   "outputs": [
    {
     "name": "stdout",
     "output_type": "stream",
     "text": [
      "temps d'execution de tour_length 0.07462501525878906 ms\n",
      "temps d'execution de long_tour 0.1475811004638672 ms\n"
     ]
    }
   ],
   "source": [
    "#Expérimental\n",
    "tic = time()\n",
    "tour_length(tour, dico_dist)\n",
    "toc = time()\n",
    "print(\"temps d'execution de tour_length\",(toc - tic)*1000, \"ms\")\n",
    "\n",
    "\n",
    "tic = time()\n",
    "long_tour(villes, tour)\n",
    "toc = time()\n",
    "print(\"temps d'execution de long_tour\",(toc - tic)*1000, \"ms\")"
   ]
  },
  {
   "cell_type": "markdown",
   "metadata": {
    "collapsed": false
   },
   "source": [
    "**Question 8**\n",
    "\n",
    "Quelle est la complexité asymptotique de la fonction best\\_tour\\_from\\_closest\\_city ? Justifiez.\n",
    "\n"
   ]
  },
  {
   "cell_type": "markdown",
   "metadata": {
    "collapsed": false
   },
   "source": [
    "Elle a une complexité cubique car pour une liste de longueur n, il va parcourir chaque ville du tableau puis va utiliser la fonction tour\\_from\\_closest\\_city qui elle même utilise la fonction closest\\_city dans sa boucle. La fonction closest\\_city a une complexité lineaire, elle est utilisé dans la boucle de tour\\_from\\_closest\\_city qui fait n iteration donc la fonction tour\\_from\\_closest\\_city a une complexité quadratique. Cette même fonction est utilisé dans la boucle de la fonction best\\_tour\\_from\\_closest\\_city qui fait n iteration.\n"
   ]
  },
  {
   "cell_type": "markdown",
   "metadata": {
    "collapsed": false
   },
   "source": [
    "**Question 13**\n",
    "\n",
    "**a**lgorithme construisant un tour en ajoutant successivement la ville la plus proche \\(en partant d'une ville aléatoire\\),\n",
    "\n",
    "cet algorithme répété en essayant chaque ville comme ville de départ,\n",
    "\n",
    "l'utilisation de la méthode d'amélioration par inversion pour améliorer les tours obtenus par les deux précédentes méthodes,\n",
    "\n",
    "d'autres méthodes que vous aurez implémentées \\(optionnel\\).\n",
    "\n"
   ]
  },
  {
   "cell_type": "code",
   "execution_count": 29,
   "metadata": {
    "collapsed": false
   },
   "outputs": [
    {
     "name": "stdout",
     "output_type": "stream",
     "text": [
      "temps execution algo1\n",
      "temps d'execution de tour_from_closest_city 0.06985664367675781 ms\n",
      "\n",
      "temps execution algo2\n",
      "temps d'execution de best_tour_from_closest_city 0.09608268737792969 ms\n",
      "\n",
      "temps execution algo3\n",
      "temps d'execution de best_obtained_with_inversions 0.11014938354492188 ms\n"
     ]
    }
   ],
   "source": [
    "print(\"temps execution algo1\")\n",
    "tic = time()\n",
    "tour_from_closest_city(\"Paris\", dico_dist)\n",
    "tac = time()\n",
    "print(\"temps d'execution de tour_from_closest_city\",(tac - tic)*1000, \"ms\")\n",
    "\n",
    "\n",
    "print(\"\\ntemps execution algo2\")\n",
    "tic = time()\n",
    "best_tour_from_closest_city(dico_dist)\n",
    "tac = time()\n",
    "print(\"temps d'execution de best_tour_from_closest_city\",(tac - tic)*1000, \"ms\")\n",
    "\n",
    "print(\"\\ntemps execution algo3\")\n",
    "tic = time()\n",
    "best_obtained_with_inversions(tour, dico_dist)\n",
    "tac = time()\n",
    "print(\"temps d'execution de best_obtained_with_inversions\",(tac - tic)*1000, \"ms\")"
   ]
  },
  {
   "cell_type": "code",
   "execution_count": 41,
   "metadata": {
    "collapsed": false
   },
   "outputs": [
    {
     "name": "stdout",
     "output_type": "stream",
     "text": [
      "Afrique\n",
      "\n",
      "algo1\n",
      "['Luanda', 'Kinshasa', 'Algiers', 'Porto-Novo', 'Gaborone', 'Ouagadougou', 'Bujumbura', 'Yaoundé', 'Praia', 'Bangui', \"N'Djamena\", 'Moroni', 'Djibouti', 'Cairo', 'Malabo', 'Asmara', 'Addis Ababa', 'Libreville', 'Banjul', 'Accra', 'Conakry', 'Bissau', 'Yamoussoukro', 'Nairobi', 'Maseru', 'Monrovia', 'Tripoli', 'Antananarivo', 'Lilongwe', 'Bamako', 'Nouakchott', 'Port Louis', 'Mamoutzou', 'Rabat', 'Maputo', 'Windhoek', 'Niamey', 'Abuja', 'Brazzaville', 'Saint-Denis', 'Kigali', 'Jamestown', 'São Tomé', 'Dakar', 'Victoria', 'Freetown', 'Mogadishu', 'Pretoria', 'Khartoum', 'Mbabane', 'Dodoma', 'Lomé', 'Tunis', 'Kampala', 'El Aaiún', 'Lusaka', 'Harare']\n",
      "temps d'execution de tour_from_closest_city 0.7140636444091797 ms\n",
      "\n",
      "algo2\n",
      "['El Aaiún', 'Rabat', 'Algiers', 'Luanda', 'Porto-Novo', 'Gaborone', 'Ouagadougou', 'Bujumbura', 'Yaoundé', 'Praia', 'Bangui', \"N'Djamena\", 'Moroni', 'Kinshasa', 'Djibouti', 'Cairo', 'Malabo', 'Asmara', 'Addis Ababa', 'Libreville', 'Banjul', 'Accra', 'Conakry', 'Bissau', 'Yamoussoukro', 'Nairobi', 'Maseru', 'Monrovia', 'Tripoli', 'Antananarivo', 'Lilongwe', 'Bamako', 'Nouakchott', 'Port Louis', 'Mamoutzou', 'Maputo', 'Windhoek', 'Niamey', 'Abuja', 'Brazzaville', 'Saint-Denis', 'Kigali', 'Jamestown', 'São Tomé', 'Dakar', 'Victoria', 'Freetown', 'Mogadishu', 'Pretoria', 'Khartoum', 'Mbabane', 'Dodoma', 'Lomé', 'Tunis', 'Kampala', 'Lusaka', 'Harare']\n",
      "temps d'execution de best_tour_from_closest_city 82.69691467285156 ms\n",
      "\n",
      "algo3\n"
     ]
    },
    {
     "name": "stdout",
     "output_type": "stream",
     "text": [
      "['Harare', 'Maputo', 'Mbabane', 'Maseru', 'Pretoria', 'Gaborone', 'Windhoek', 'Jamestown', 'Luanda', 'Kinshasa', 'Brazzaville', 'Bangui', 'Yaoundé', 'Libreville', 'São Tomé', 'Malabo', 'Abuja', 'Porto-Novo', 'Lomé', 'Accra', 'Yamoussoukro', 'Monrovia', 'Freetown', 'Conakry', 'Bissau', 'Banjul', 'Dakar', 'Praia', 'Nouakchott', 'Bamako', 'Ouagadougou', 'Niamey', 'El Aaiún', 'Rabat', 'Algiers', 'Tunis', 'Tripoli', 'Cairo', \"N'Djamena\", 'Khartoum', 'Asmara', 'Djibouti', 'Addis Ababa', 'Kampala', 'Kigali', 'Bujumbura', 'Dodoma', 'Nairobi', 'Mogadishu', 'Victoria', 'Port Louis', 'Saint-Denis', 'Antananarivo', 'Mamoutzou', 'Moroni', 'Lilongwe', 'Lusaka']\n",
      "temps d'execution de best_obtained_with_inversions 1704.1234970092773 ms\n"
     ]
    }
   ],
   "source": [
    "liste_villes_africa = lecture_villes(\"villes_monde/africa.csv\")\n",
    "dictionnaire_villes_africa = dictionary_cities(liste_villes_africa)\n",
    "tour_africa = list(dictionnaire_villes_africa)\n",
    "print(\"Afrique\\n\")\n",
    "print(\"algo1\")\n",
    "tic = time()\n",
    "print(tour_from_closest_city(\"Luanda\", dictionnaire_villes_africa))\n",
    "tac = time()\n",
    "print(\"temps d'execution de tour_from_closest_city\",(tac - tic)*1000, \"ms\")\n",
    "\n",
    "\n",
    "print(\"\\nalgo2\")\n",
    "tic = time()\n",
    "print(best_tour_from_closest_city(dictionnaire_villes_africa))\n",
    "tac = time()\n",
    "print(\"temps d'execution de best_tour_from_closest_city\",(tac - tic)*1000, \"ms\")\n",
    "\n",
    "print(\"\\nalgo3\")\n",
    "tic = time()\n",
    "best_obtained_with_inversions(tour_africa, dictionnaire_villes_africa)\n",
    "print(tour_africa)\n",
    "tac = time()\n",
    "print(\"temps d'execution de best_obtained_with_inversions\",(tac - tic)*1000, \"ms\")"
   ]
  },
  {
   "cell_type": "code",
   "execution_count": 39,
   "metadata": {
    "collapsed": false
   },
   "outputs": [
    {
     "name": "stdout",
     "output_type": "stream",
     "text": [
      "Asia\n",
      "\n",
      "algo1\n",
      "['Baku', 'Tbilisi', 'Kabul', 'Yerevan', 'Manama', 'Dhaka', 'Thimphu', 'Diego Garcia', 'Bandar Seri Begawan', 'Phnom Penh', 'Beijing', 'The Settlement', 'West Island', 'Hong Kong', 'New Delhi', 'Jakarta', 'Tehran', 'Baghdad', 'Jerusalem', 'Edo', 'Amman', 'Astana', 'Kuwait City', 'Bishkek', 'Vientiane', 'Beirut', 'Macao', 'Kuala Lumpur', 'Malé', 'Ulan Bator', 'Nay Pyi Taw', 'Kathmandu', 'Pyongyang', 'Muscat', 'Islamabad', 'East Jerusalem', 'Manila', 'Doha', 'Riyadh', 'Singapore', 'Seoul', 'Colombo', 'Damascus', 'Taipei', 'Dushanbe', 'Bangkok', 'Ankara', 'Ashkhabad', 'Abu Dhabi', 'Tashkent', 'Hanoi', 'Sanaa']\n",
      "temps d'execution de tour_from_closest_city 0.5791187286376953 ms\n",
      "\n",
      "algo2\n",
      "['Damascus', 'Beirut', 'Kabul', 'Yerevan', 'Baku', 'Manama', 'Dhaka', 'Thimphu', 'Diego Garcia', 'Bandar Seri Begawan', 'Phnom Penh', 'Beijing', 'The Settlement', 'West Island', 'Tbilisi', 'Hong Kong', 'New Delhi', 'Jakarta', 'Tehran', 'Baghdad', 'Jerusalem', 'Edo', 'Amman', 'Astana', 'Kuwait City', 'Bishkek', 'Vientiane', 'Macao', 'Kuala Lumpur', 'Malé', 'Ulan Bator', 'Nay Pyi Taw', 'Kathmandu', 'Pyongyang', 'Muscat', 'Islamabad', 'East Jerusalem', 'Manila', 'Doha', 'Riyadh', 'Singapore', 'Seoul', 'Colombo', 'Taipei', 'Dushanbe', 'Bangkok', 'Ankara', 'Ashkhabad', 'Abu Dhabi', 'Tashkent', 'Hanoi', 'Sanaa']\n",
      "temps d'execution de best_tour_from_closest_city 20.271778106689453 ms\n",
      "\n",
      "algo3\n"
     ]
    },
    {
     "name": "stdout",
     "output_type": "stream",
     "text": [
      "['Sanaa', 'Amman', 'Beirut', 'Jerusalem', 'East Jerusalem', 'Ankara', 'Damascus', 'Baghdad', 'Tehran', 'Yerevan', 'Tbilisi', 'Diego Garcia', 'Baku', 'Ashkhabad', 'Tashkent', 'Bishkek', 'Dushanbe', 'Kabul', 'Islamabad', 'New Delhi', 'Kathmandu', 'Thimphu', 'Dhaka', 'Nay Pyi Taw', 'Bangkok', 'Phnom Penh', 'Vientiane', 'Hanoi', 'Macao', 'Hong Kong', 'Taipei', 'Beijing', 'Astana', 'Ulan Bator', 'Pyongyang', 'Seoul', 'Edo', 'Manila', 'Bandar Seri Begawan', 'Kuala Lumpur', 'Singapore', 'Jakarta', 'The Settlement', 'West Island', 'Colombo', 'Malé', 'Muscat', 'Abu Dhabi', 'Doha', 'Manama', 'Kuwait City', 'Riyadh']\n",
      "temps d'execution de best_obtained_with_inversions 1513.3213996887207 ms\n"
     ]
    }
   ],
   "source": [
    "liste_villes_asia = lecture_villes(\"villes_monde/asia.csv\")\n",
    "dictionnaire_villes_asia = dictionary_cities(liste_villes_asia)\n",
    "tour_asia = list(dictionnaire_villes_asia)\n",
    "print(\"Asia\\n\")\n",
    "print(\"algo1\")\n",
    "tic = time()\n",
    "print(tour_from_closest_city(\"Baku\", dictionnaire_villes_asia))\n",
    "tac = time()\n",
    "print(\"temps d'execution de tour_from_closest_city\",(tac - tic)*1000, \"ms\")\n",
    "\n",
    "\n",
    "print(\"\\nalgo2\")\n",
    "tic = time()\n",
    "print(best_tour_from_closest_city(dictionnaire_villes_asia))\n",
    "tac = time()\n",
    "print(\"temps d'execution de best_tour_from_closest_city\",(tac - tic)*1000, \"ms\")\n",
    "\n",
    "print(\"\\nalgo3\")\n",
    "tic = time()\n",
    "best_obtained_with_inversions(tour_asia, dictionnaire_villes_asia)\n",
    "print(tour_asia)\n",
    "tac = time()\n",
    "print(\"temps d'execution de best_obtained_with_inversions\",(tac - tic)*1000, \"ms\")"
   ]
  },
  {
   "cell_type": "code",
   "execution_count": 42,
   "metadata": {
    "collapsed": false
   },
   "outputs": [
    {
     "name": "stdout",
     "output_type": "stream",
     "text": [
      "Europe\n",
      "\n",
      "algo1\n",
      "['Copenhagen', 'Berlin', 'Tirana', 'Andorra la Vella', 'Vienna', 'Minsk', 'Brussels', 'Sarajevo', 'Sofia', 'Zagreb', 'Nicosia', 'Prague', 'Tallinn', 'Tórshavn', 'Helsinki', 'Paris', 'Gibraltar', 'Athens', 'St Peter Port', 'Budapest', 'Reykjavík', 'Dublin', 'Douglas', 'Rome', 'Saint Helier', 'Pristina', 'Riga', 'Vaduz', 'Vilnius', 'Luxembourg', 'Skopje', 'Valletta', 'Chişinău', 'Monaco', 'Podgorica', 'Amsterdam', 'Oslo', 'Warsaw', 'Lisbon', 'Bucharest', 'Moscow', 'San Marino', 'Belgrade', 'Bratislava', 'Ljubljana', 'Madrid', 'Longyearbyen', 'Stockholm', 'Berne', 'Kiev', 'London', 'Vatican']\n",
      "temps d'execution de tour_from_closest_city 0.5652904510498047 ms\n",
      "\n",
      "algo2\n",
      "['Nicosia', 'Athens', 'Tirana', 'Andorra la Vella', 'Vienna', 'Minsk', 'Brussels', 'Sarajevo', 'Sofia', 'Zagreb', 'Prague', 'Copenhagen', 'Tallinn', 'Tórshavn', 'Helsinki', 'Paris', 'Berlin', 'Gibraltar', 'St Peter Port', 'Budapest', 'Reykjavík', 'Dublin', 'Douglas', 'Rome', 'Saint Helier', 'Pristina', 'Riga', 'Vaduz', 'Vilnius', 'Luxembourg', 'Skopje', 'Valletta', 'Chişinău', 'Monaco', 'Podgorica', 'Amsterdam', 'Oslo', 'Warsaw', 'Lisbon', 'Bucharest', 'Moscow', 'San Marino', 'Belgrade', 'Bratislava', 'Ljubljana', 'Madrid', 'Longyearbyen', 'Stockholm', 'Berne', 'Kiev', 'London', 'Vatican']\n",
      "temps d'execution de best_tour_from_closest_city 70.30582427978516 ms\n",
      "\n",
      "algo3\n"
     ]
    },
    {
     "name": "stdout",
     "output_type": "stream",
     "text": [
      "['Rome', 'Valletta', 'Gibraltar', 'Lisbon', 'Madrid', 'Andorra la Vella', 'Monaco', 'Vaduz', 'Berne', 'Luxembourg', 'Brussels', 'Paris', 'Saint Helier', 'St Peter Port', 'Dublin', 'Douglas', 'London', 'Amsterdam', 'Berlin', 'Prague', 'Vienna', 'Bratislava', 'Budapest', 'Belgrade', 'Pristina', 'Skopje', 'Sofia', 'Bucharest', 'Warsaw', 'Copenhagen', 'Oslo', 'Tórshavn', 'Reykjavík', 'Longyearbyen', 'Stockholm', 'Helsinki', 'Tallinn', 'Riga', 'Vilnius', 'Minsk', 'Moscow', 'Kiev', 'Chişinău', 'Nicosia', 'Athens', 'Tirana', 'Podgorica', 'Sarajevo', 'Zagreb', 'Ljubljana', 'San Marino', 'Vatican']\n",
      "temps d'execution de best_obtained_with_inversions 1105.311393737793 ms\n"
     ]
    }
   ],
   "source": [
    "liste_villes_europe = lecture_villes(\"villes_monde/europe.csv\")\n",
    "dictionnaire_villes_europe = dictionary_cities(liste_villes_europe)\n",
    "tour_europe = list(dictionnaire_villes_europe)\n",
    "print(\"Europe\\n\")\n",
    "print(\"algo1\")\n",
    "tic = time()\n",
    "print(tour_from_closest_city(\"Copenhagen\", dictionnaire_villes_europe))\n",
    "tac = time()\n",
    "print(\"temps d'execution de tour_from_closest_city\",(tac - tic)*1000, \"ms\")\n",
    "\n",
    "\n",
    "print(\"\\nalgo2\")\n",
    "tic = time()\n",
    "print(best_tour_from_closest_city(dictionnaire_villes_europe))\n",
    "tac = time()\n",
    "print(\"temps d'execution de best_tour_from_closest_city\",(tac - tic)*1000, \"ms\")\n",
    "\n",
    "print(\"\\nalgo3\")\n",
    "tic = time()\n",
    "best_obtained_with_inversions(tour_europe, dictionnaire_villes_europe)\n",
    "print(tour_europe)\n",
    "tac = time()\n",
    "print(\"temps d'execution de best_obtained_with_inversions\",(tac - tic)*1000, \"ms\")"
   ]
  },
  {
   "cell_type": "markdown",
   "metadata": {
    "collapsed": false
   },
   "source": [
    "l'algorithme le plus efficace en temps est le premier cependant celui qui fera faire le moins de trajet aux rennes entre chaque ville est le 3eme algorithme\n"
   ]
  }
 ],
 "metadata": {
  "kernelspec": {
   "argv": [
    "/usr/bin/python3",
    "-m",
    "ipykernel",
    "--HistoryManager.enabled=False",
    "--matplotlib=inline",
    "-c",
    "%config InlineBackend.figure_formats = set(['retina'])\nimport matplotlib; matplotlib.rcParams['figure.figsize'] = (12, 7)",
    "-f",
    "{connection_file}"
   ],
   "display_name": "Python 3 (system-wide)",
   "env": {
   },
   "language": "python",
   "metadata": {
    "cocalc": {
     "description": "Python 3 programming language",
     "priority": 100,
     "url": "https://www.python.org/"
    }
   },
   "name": "python3",
   "resource_dir": "/ext/jupyter/kernels/python3"
  },
  "language_info": {
   "codemirror_mode": {
    "name": "ipython",
    "version": 3
   },
   "file_extension": ".py",
   "mimetype": "text/x-python",
   "name": "python",
   "nbconvert_exporter": "python",
   "pygments_lexer": "ipython3",
   "version": "3.10.12"
  }
 },
 "nbformat": 4,
 "nbformat_minor": 4
}